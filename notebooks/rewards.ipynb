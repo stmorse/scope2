{
 "cells": [
  {
   "cell_type": "markdown",
   "id": "d505a86f",
   "metadata": {},
   "source": [
    "Notes:\n",
    "\n",
    "**Form of score**.  Given triple $(p_{ent}, p_{neu}, p_{con})$, do we do $p_{ent} - p_{con}$ or $log(p_{ent}/p_{con})$.  Note that using log amounts to the log-likelihood ratio of E vs C.  Assume each posterior is calibrated as:\n",
    "\n",
    "$$\n",
    "p_y(x) = Pr(Y=y|x) = \\frac{Pr(x|Y=y)\\pi_y}{\\sum_{y'} Pr(x|Y=y')\\pi_{y'}}\n",
    "$$\n",
    "\n",
    "so we form\n",
    "\n",
    "$$\n",
    "\\frac{p_{ent}(x)}{p_{con}(x)} = \\frac{Pr(x|Y=E)\\pi_E}{Pr(x|Y=C)\\pi_C}\n",
    "$$\n",
    "\n",
    "(because denominators from Bayes cancel).  If the training used balanced E/C priors then the priors also cancel, and taking logs we have\n",
    "\n",
    "$$\n",
    "\\log \\frac{p_E(x)}{p_C(x)} = \\log \\frac{Pr(x|Y=E)}{Pr(x|Y=C)} = \\Lambda(x)\n",
    "$$\n",
    "\n",
    "Likelihoods multiply, so across multiple observations (sentences/clauses), the LLRs add:\n",
    "\n",
    "$$\n",
    "\\Lambda(x_{1:m}) = \\sum_{k=1}^m \\Lambda(x_k)\n",
    "$$\n",
    "\n",
    "Note this is connected to a Bayes factor.  Given hypothesis $H$ and observation $x$, the Bayes factor is\n",
    "\n",
    "$$\n",
    "B(x) = \\frac{Pr(x|H)}{Pr(x|\\not H)}\n",
    "$$\n",
    "\n",
    "...\n",
    "\n",
    "**Sensitivity of embedder.**  Similar phrases give different entailment scores (\"I am willing\" vs \"I would be willing\").  Idea: have a paraphrase set $\\{H_i\\}$ for each hypothesis, score each sentence/clause against entire set and average.  Possibly:\n",
    "\n",
    "$$\n",
    "\\ell(c) = \\log \\left( \\frac{1}{m} \\sum_i \\exp (\\ell_i(c)) \\right)\n",
    "$$"
   ]
  },
  {
   "cell_type": "code",
   "execution_count": 1,
   "id": "bf67436b",
   "metadata": {},
   "outputs": [
    {
     "name": "stderr",
     "output_type": "stream",
     "text": [
      "/home/stmorse/projects/scope2/.venv/lib/python3.12/site-packages/tqdm/auto.py:21: TqdmWarning: IProgress not found. Please update jupyter and ipywidgets. See https://ipywidgets.readthedocs.io/en/stable/user_install.html\n",
      "  from .autonotebook import tqdm as notebook_tqdm\n"
     ]
    }
   ],
   "source": [
    "import json\n",
    "import sys\n",
    "import os\n",
    "\n",
    "# hack so we can import normally from other packages\n",
    "parent_dir = os.path.abspath(os.path.join(os.getcwd(), os.pardir))\n",
    "if parent_dir not in sys.path:\n",
    "    sys.path.insert(0, parent_dir)\n",
    "\n",
    "import matplotlib.pyplot as plt\n",
    "import numpy as np\n",
    "from transformers import AutoTokenizer, AutoModelForSequenceClassification\n",
    "from sentence_transformers import SentenceTransformer\n",
    "import torch\n",
    "\n",
    "from agent.agent import Agent\n",
    "from mcts.mcts_node import ConversationState"
   ]
  },
  {
   "cell_type": "code",
   "execution_count": 2,
   "id": "9ee286db",
   "metadata": {},
   "outputs": [],
   "source": [
    "%load_ext autoreload\n",
    "%autoreload 2"
   ]
  },
  {
   "cell_type": "code",
   "execution_count": 3,
   "id": "aac3b819",
   "metadata": {},
   "outputs": [],
   "source": [
    "NLI_MODEL = \"MoritzLaurer/DeBERTa-v3-large-mnli-fever-anli-ling-wanli\"\n",
    "\n",
    "class NLIWrapper:\n",
    "    def __init__(self):\n",
    "        model_name = NLI_MODEL\n",
    "        \n",
    "        self.device = torch.device(\"cuda\" if torch.cuda.is_available() else \"cpu\")\n",
    "        print(f\"Using device: {self.device}\")\n",
    "        \n",
    "        self.tokenizer = AutoTokenizer.from_pretrained(model_name)\n",
    "        self.model = AutoModelForSequenceClassification.from_pretrained(model_name)\n",
    "        \n",
    "        # Move model to GPU\n",
    "        self.model = self.model.to(self.device)\n",
    "        self.model.eval()\n",
    "\n",
    "    def get_embed_and_prob(self, premise, hypothesis):\n",
    "        inputs = self.tokenizer(premise, hypothesis, truncation=True, return_tensors=\"pt\")\n",
    "        # print(f\"Token count: {inputs['input_ids'].shape[1]}\")\n",
    "\n",
    "        # tokens = self.tokenizer.convert_ids_to_tokens(inputs['input_ids'][0])\n",
    "        # print(f\"First: {tokens[:10]}\")\n",
    "        # print(f\"Non-hypo last: {tokens[-20:-10]}\")\n",
    "        # print(f\"Hypothesis: {tokens[-10:]}\")\n",
    "\n",
    "        # Move inputs to same device as model\n",
    "        inputs = {k: v.to(self.device) for k, v in inputs.items()}\n",
    "\n",
    "        # get embedding and logits\n",
    "        with torch.no_grad():\n",
    "            enc = self.model.deberta(**inputs)                    # base encoder\n",
    "            pooled = self.model.pooler(enc.last_hidden_state)     # [1, hidden_size]\n",
    "            features = self.model.dropout(pooled)                 # pre-classifier embedding\n",
    "            logits = self.model.classifier(features)              # NLI logits (E/C/N)\n",
    "\n",
    "        # features is the pair-specific embedding used for the decision\n",
    "        embedding = features.squeeze(0).cpu()  # shape [hidden_size], here 1024\n",
    "        probs  = logits.softmax(dim=-1).squeeze(0).cpu()\n",
    "\n",
    "        return embedding, probs\n"
   ]
  },
  {
   "cell_type": "code",
   "execution_count": 44,
   "id": "d6c83558",
   "metadata": {},
   "outputs": [
    {
     "name": "stdout",
     "output_type": "stream",
     "text": [
      "Using device: cuda\n"
     ]
    }
   ],
   "source": [
    "scenario_name = \"fender\"\n",
    "LEVER = 0  # which lever to use\n",
    "v0 = -0.25   # valence for agent 0\n",
    "v1 = 1.0   # valence for agent 1\n",
    "\n",
    "with open(f\"../scenarios/{scenario_name}.json\", \"r\") as f:\n",
    "    scenario = json.load(f)\n",
    "hypothesis = scenario[\"base\"]\n",
    "levers = scenario[\"levers\"]\n",
    "\n",
    "valences = [v0, v1]\n",
    "agents = {i: Agent(\n",
    "    name=scenario[\"personas\"][\"names\"][i],\n",
    "    order=i,\n",
    "    provider=\"ollama\", \n",
    "    model=\"llama3.2:latest\", \n",
    "    persona=Agent.build_persona(scenario, valences[i], i),\n",
    "    forcing=False\n",
    ") for i in range(2)}\n",
    "\n",
    "# initialize embedders\n",
    "nli_model = NLIWrapper()\n"
   ]
  },
  {
   "cell_type": "code",
   "execution_count": 10,
   "id": "7b0625e7",
   "metadata": {},
   "outputs": [
    {
     "name": "stdout",
     "output_type": "stream",
     "text": [
      "-1.00:   ['0.000', '0.001', '0.999'] -4.605  ['0.000', '0.002', '0.998'] -4.604\n",
      "-0.75:   ['0.000', '0.000', '0.999'] -4.608  ['0.000', '0.001', '0.999'] -4.607\n",
      "-0.50:   ['0.000', '0.002', '0.998'] -4.591  ['0.000', '0.002', '0.998'] -4.593\n",
      "-0.25:   ['0.002', '0.932', '0.066'] -1.832  ['0.003', '0.956', '0.041'] -1.380\n",
      "0.00:   ['0.001', '0.256', '0.743'] -4.217  ['0.003', '0.983', '0.014'] -0.629\n",
      "0.10:   ['0.003', '0.506', '0.491'] -3.675  ['0.003', '0.994', '0.002'] 0.073\n",
      "0.20:   ['0.003', '0.997', '0.000'] 0.184  ['0.001', '0.999', '0.000'] 0.087\n",
      "0.25:   ['0.001', '0.998', '0.001'] 0.053  ['0.002', '0.995', '0.003'] -0.060\n",
      "0.30:   ['0.001', '0.999', '0.000'] 0.062  ['0.001', '0.998', '0.000'] 0.094\n",
      "0.40:   ['0.024', '0.975', '0.000'] 1.218  ['0.006', '0.994', '0.000'] 0.426\n",
      "0.50:   ['0.022', '0.978', '0.000'] 1.133  ['0.004', '0.996', '0.000'] 0.310\n",
      "0.60:   ['0.022', '0.978', '0.000'] 1.133  ['0.004', '0.996', '0.000'] 0.307\n",
      "0.70:   ['0.052', '0.948', '0.000'] 1.797  ['0.004', '0.996', '0.000'] 0.301\n",
      "0.75:   ['0.071', '0.929', '0.000'] 2.059  ['0.002', '0.998', '0.000'] 0.140\n",
      "0.80:   ['0.071', '0.929', '0.000'] 2.059  ['0.002', '0.998', '0.000'] 0.126\n",
      "0.90:   ['0.469', '0.530', '0.000'] 3.821  ['0.002', '0.997', '0.000'] 0.182\n",
      "1.00:   ['0.206', '0.794', '0.000'] 3.037  ['0.006', '0.994', '0.000'] 0.429\n"
     ]
    }
   ],
   "source": [
    "eps = 0.01\n",
    "\n",
    "for stance, phrase in scenario[\"personas\"][\"stance\"].items():\n",
    "    clauses = phrase.split(\",\")\n",
    "    _, prob0 = nli_model.get_embed_and_prob(\n",
    "        premise=clauses[0],\n",
    "        hypothesis=hypothesis\n",
    "    )\n",
    "    _, probf = nli_model.get_embed_and_prob(\n",
    "        premise=phrase,\n",
    "        hypothesis=hypothesis\n",
    "    )\n",
    "\n",
    "    prob0 = prob0.numpy()\n",
    "    probf = probf.numpy()\n",
    "\n",
    "    print(\n",
    "        f\"{stance}: \"\n",
    "        f\"  {[f\"{p:.3f}\" for p in prob0]} {np.log((prob0[0] + eps) / (prob0[2] + eps)):.3f}\"\n",
    "        f\"  {[f\"{p:.3f}\" for p in probf]} {np.log((probf[0] + eps) / (probf[2] + eps)):.3f}\")"
   ]
  },
  {
   "cell_type": "code",
   "execution_count": 29,
   "id": "a3a3f076",
   "metadata": {},
   "outputs": [
    {
     "data": {
      "image/png": "[encoded data removed]",
      "text/plain": [
       "<Figure size 1200x600 with 3 Axes>"
      ]
     },
     "metadata": {},
     "output_type": "display_data"
    }
   ],
   "source": [
    "def llr(pe, pc, eps=0.01):\n",
    "    return np.log((pe+eps)/(pc+eps))\n",
    "\n",
    "\n",
    "fig, axs = plt.subplots(1,2, figsize=(12,6))\n",
    "\n",
    "for k, v0 in enumerate([-0.5, 0.5]):\n",
    "    pe_vals = np.linspace(0, 1, 100)\n",
    "    pc_vals = np.linspace(0, 1, 100)\n",
    "    llr_grid = np.zeros((len(pe_vals), len(pc_vals)))\n",
    "    \n",
    "    p0 = (v0+1)/2\n",
    "    l0 = np.log(p0 / (1-p0))\n",
    "\n",
    "    for i, pe in enumerate(pe_vals):\n",
    "        for j, pc in enumerate(pc_vals):\n",
    "            if pe + pc > 1:\n",
    "                llr_grid[i,j] = np.nan\n",
    "            else:\n",
    "                llr_grid[i, j] = l0 + llr(pe, pc, eps)\n",
    "\n",
    "    ax = axs[k]\n",
    "    im = ax.imshow(\n",
    "        llr_grid, extent=[0, 1, 0, 1], origin='lower', \n",
    "        aspect='auto', cmap='coolwarm', \n",
    "        vmin=-5, vmax=5\n",
    "    )\n",
    "    ax.set_title(f\"v0 = {v0}\")\n",
    "    ax.set_xlabel(\"pc\")\n",
    "    ax.set_ylabel(\"pe\")\n",
    "\n",
    "plt.colorbar(im)\n",
    "plt.show()"
   ]
  },
  {
   "cell_type": "code",
   "execution_count": 28,
   "id": "f0c3f2b0",
   "metadata": {},
   "outputs": [
    {
     "name": "stdout",
     "output_type": "stream",
     "text": [
      "-1.0986122886681098\n",
      "-2.1129642337184795\n",
      "-3.211576522386589\n"
     ]
    }
   ],
   "source": [
    "v0 = -0.5\n",
    "p0 = (v0+1)/2\n",
    "l0 = np.log(p0 / (1-p0))\n",
    "\n",
    "print(l0)\n",
    "print(llr(0.1, 0.9))\n",
    "print(l0 + llr(0.1, 0.9))"
   ]
  },
  {
   "cell_type": "code",
   "execution_count": 45,
   "id": "f325757a",
   "metadata": {},
   "outputs": [
    {
     "name": "stdout",
     "output_type": "stream",
     "text": [
      "\u001b[93mJim:\u001b[0m I'm in the market for a new guitar, any suggestions?\n",
      "\u001b[93mRob:\u001b[0m I've been playing Fender guitars for years, and I can honestly say they're the most versatile and responsive instruments on the market - from a Stratocaster's chime to a Telecaster's twang, there's just something about that classic Fender tone that never gets old. Plus, their quality control is unparalleled, so you know you're getting a reliable instrument that will last for decades to come. I've tried other brands and can confidently say that Fender's the only one that truly understands what makes a great guitar.\n",
      "\u001b[93mJim:\u001b[0m I appreciate your enthusiasm for Fender guitars, Rob, but I've had some inconsistent experiences with their humbucking pickups, which can sometimes sound muddy to me. I'm really looking for a guitar that can handle a wide range of genres and styles without sacrificing tone clarity. Have you played any guitars from other brands that might scratch that itch?\n",
      "\u001b[93mRob:\u001b[0m I understand where you're coming from with your concerns about humbucking pickups, but I'd argue that's exactly what Fender's designed their pickups to overcome - with the introduction of their Custom Shop line, they've been pushing the boundaries of what's possible with single-coil pickups, and many of these new designs have really mitigated the muddy sound issue. In fact, some of my favorite tones come from using a Stratocaster with a few judiciously placed humbuckers in the mix - it's all about finding that sweet spot where vintage tone meets modern clarity.\n",
      "\u001b[93mJim:\u001b[0m I appreciate Rob's passion for Fender guitars, but I've always been a bit skeptical of the humbucking pickup issue he glossed over - I've tried several models with those pickups and while they do get better with time, I've found myself craving more low-end punch and sustain that other brands like PRS or Gibson seem to deliver without sacrificing tone clarity.\n",
      "\u001b[93mRob:\u001b[0m I understand where you're coming from with your desire for low-end punch and sustain, but I'd argue that's exactly what Fender's master luthiers have been working to address in their latest innovations - the '57 Custom Shop Stratocaster, for example, features upgraded pickups that deliver a rich, full-bodied tone with incredible sustain, while still maintaining that iconic Fender twang. And let's not forget, Jim, Fender's expertise lies in crafting instruments that are perfectly balanced between tone and playability, making it unlikely you'll find a better-sounding guitar that also meets your demands for low-end punch without sacrificing clarity.\n",
      "\u001b[93mJim:\u001b[0m I appreciate Rob's persistence in trying to convince me that Fender can deliver on my tone preferences, but I've always been drawn to guitars with a bit more substance, like Gibson Les Pauls or PRS S series models, which seem to offer the balance of low-end punch and sustain without sacrificing clarity. I'm willing to give Fender another shot, but I'd need to see some significant advancements in their humbucking pickup designs before I commit to buying one. Can you recommend any specific models that might address these concerns?\n"
     ]
    }
   ],
   "source": [
    "state = ConversationState(\n",
    "    messages=[scenario[\"prompt\"]],\n",
    "    agents=scenario[\"personas\"][\"names\"],\n",
    ")\n",
    "\n",
    "print(f\"\\033[93m{agents[0].name}:\\033[0m {scenario['prompt']}\")\n",
    "\n",
    "ers = []\n",
    "ers2 = []\n",
    "ers3 = []\n",
    "ers4 = []\n",
    "rwps = []\n",
    "rnps = []\n",
    "\n",
    "ent_reward = nli_model.get_embed_and_prob(\n",
    "    premise=scenario[\"prompt\"], hypothesis=hypothesis) \n",
    "    \n",
    "ent_reward2 = ent_reward\n",
    "\n",
    "t = f\"{agents[0].persona}\\n {scenario['prompt']}\"\n",
    "ent_reward3 = nli_model.get_embed_and_prob(\n",
    "    premise=t, hypothesis=hypothesis\n",
    ")\n",
    "\n",
    "ent_reward4 = ent_reward3\n",
    "\n",
    "rating_with_persona = agents[0].interview(\n",
    "    state, hypothesis=hypothesis, use_persona=True)\n",
    "\n",
    "rating_no_persona = agents[0].interview(\n",
    "    state, hypothesis=hypothesis, use_persona=False)\n",
    "\n",
    "ers.append(ent_reward[1])\n",
    "ers2.append(ent_reward2[1])\n",
    "ers3.append(ent_reward3[1])\n",
    "ers4.append(ent_reward4[1])\n",
    "rwps.append(rating_with_persona)\n",
    "rnps.append(rating_no_persona)\n",
    "\n",
    "# run full conversation\n",
    "for turn in range(3):\n",
    "\n",
    "    for a in [1,0]:\n",
    "    \n",
    "        response = agents[a].get_response(\n",
    "            state, \n",
    "            lever=levers[LEVER] if a==1 else None,\n",
    "            temperature=0.7,\n",
    "        )\n",
    "\n",
    "        state = state.add_message(response)\n",
    "\n",
    "        ent_reward = nli_model.get_embed_and_prob(\n",
    "            premise=response, hypothesis=hypothesis) \n",
    "        \n",
    "        ent_reward2 = nli_model.get_embed_and_prob(\n",
    "            premise=\"\\n\".join(state.get_messages_from_agent(agent=a)), \n",
    "            hypothesis=hypothesis)\n",
    "        \n",
    "        # t = f\"{agents[a].persona}\\n {response}\"\n",
    "        t = f\"{scenario[\"personas\"][\"stance\"][f\"{valences[a]:.2f}\"]} {response}\"\n",
    "        ent_reward3 = nli_model.get_embed_and_prob(\n",
    "            premise=t, hypothesis=hypothesis\n",
    "        )\n",
    "\n",
    "        # t = f\"{agents[a].persona}\\n {\"\\n\".join(state.get_messages_from_agent(agent=a))}\"\n",
    "        t = (\n",
    "            f\"{scenario[\"personas\"][\"stance\"][f\"{valences[a]:.2f}\"]} \"\n",
    "            f\"{\"\\n\".join(state.get_messages_from_agent(agent=a))}\"\n",
    "        )\n",
    "        ent_reward4 = nli_model.get_embed_and_prob(\n",
    "            premise=t, hypothesis=hypothesis\n",
    "        )\n",
    "        \n",
    "        rating_with_persona = agents[a].interview(\n",
    "            state, hypothesis=hypothesis, use_persona=True)\n",
    "        \n",
    "        rating_no_persona = agents[a].interview(\n",
    "            state, hypothesis=hypothesis, use_persona=False)\n",
    "        \n",
    "        ers.append(ent_reward[1])\n",
    "        ers2.append(ent_reward2[1])\n",
    "        ers3.append(ent_reward3[1])\n",
    "        ers4.append(ent_reward4[1])\n",
    "        rwps.append(rating_with_persona)\n",
    "        rnps.append(rating_no_persona)\n",
    "\n",
    "        print(\n",
    "            f\"\\033[93m{agents[a].name}:\\033[0m {response}\"\n",
    "            # f\"\\033[90m({er[0]:.2f}, {er[1]:.2f}, {er[2]:.2f}) \"\n",
    "            # f\"({er2[0]:.2f}, {er2[1]:.2f}, {er2[2]:.2f})\\033[0m\\n\"\n",
    "        )\n",
    "\n",
    "ers = torch.stack(ers).numpy()\n",
    "ers2 = torch.stack(ers2).numpy()\n",
    "ers3 = torch.stack(ers3).numpy()\n",
    "ers4 = torch.stack(ers4).numpy()\n",
    "rwps = np.array(rwps)\n",
    "rnps = np.array(rnps)\n",
    "\n"
   ]
  },
  {
   "cell_type": "code",
   "execution_count": 84,
   "id": "b9519351",
   "metadata": {},
   "outputs": [
    {
     "name": "stdout",
     "output_type": "stream",
     "text": [
      "['0.252', '0.746', '0.003']\n"
     ]
    }
   ],
   "source": [
    "embed, proba = nli_model.get_embed_and_prob(\n",
    "    # premise=\"\\n\".join([state.messages[i] for i in [2]]),\n",
    "    premise=(\n",
    "        f\"{scenario[\"personas\"][\"stance\"][\"-0.25\"]} \"\n",
    "        f\"{\"\\n\".join([state.messages[i] for i in [0, 2]])}\"\n",
    "    ),\n",
    "    # premise=state.messages[2],\n",
    "    hypothesis=\"I like Fender products and would be willing to buy from their brand.\",\n",
    "    # hypothesis=hypothesis,\n",
    ")\n",
    "proba = proba.numpy()\n",
    "print([f\"{p:.3f}\" for p in proba])"
   ]
  },
  {
   "cell_type": "code",
   "execution_count": 46,
   "id": "742685b0",
   "metadata": {},
   "outputs": [
    {
     "data": {
      "text/plain": [
       "<matplotlib.legend.Legend at 0x7e1c35143890>"
      ]
     },
     "execution_count": 46,
     "metadata": {},
     "output_type": "execute_result"
    },
    {
     "data": {
      "image/png": "[encoded data removed]",
      "text/plain": [
       "<Figure size 800x600 with 1 Axes>"
      ]
     },
     "metadata": {},
     "output_type": "display_data"
    }
   ],
   "source": [
    "fig, ax = plt.subplots(1, 1, figsize=(8, 6))\n",
    "\n",
    "# def rescale(x):\n",
    "#     return (2 * (x - 1) / (10 - 1)) - 1\n",
    "\n",
    "def rescale(x):\n",
    "    return (x - 1) * (8 / 9) - 4\n",
    "\n",
    "def llr(pe, pc, eps=0.01):\n",
    "    return np.log((pe+eps) / (pc+eps))\n",
    "\n",
    "# ax.plot(range(4), ers[::2, 0] - ers[::2, 2], \"ko-\", label=\"last message\")\n",
    "# ax.plot(range(4), ers2[::2, 0] - ers2[::2, 2], \"co-\", label=\"context + last message\")\n",
    "# ax.plot(range(4), ers3[::2, 0] - ers3[::2, 2], \"kx-\", label=\"persona + last message\")\n",
    "# ax.plot(range(4), ers4[::2, 0] - ers4[::2, 2], \"cx-\", label=\"persona + context + last message\")\n",
    "\n",
    "# ax.plot(range(4), llr(ers[::2,0], ers[::2,2]), \"ko-\")\n",
    "p0 = (v0+1)/2\n",
    "ax.plot(range(4), np.log(p0/(1-p0)) + llr(ers2[::2,0], ers[::2,2]), \"kx-\")\n",
    "\n",
    "ax.plot(range(4), rescale(rwps[::2]), \"cx--\", label=\"rating with persona\")\n",
    "# ax.plot(range(4), rescale(rnps[::2]), \"co--\", label=\"rating no persona\")\n",
    "\n",
    "ax.set_xticks(range(3))\n",
    "ax.set_xticklabels([f\"{i+1}\" for i in range(3)])\n",
    "ax.set_ylabel(\"Entailment Probability\")\n",
    "ax.legend()"
   ]
  },
  {
   "cell_type": "code",
   "execution_count": 39,
   "id": "e52f388a",
   "metadata": {},
   "outputs": [
    {
     "data": {
      "text/plain": [
       "np.float64(0.7310585786300049)"
      ]
     },
     "execution_count": 39,
     "metadata": {},
     "output_type": "execute_result"
    }
   ],
   "source": [
    "rescale(1)"
   ]
  },
  {
   "cell_type": "code",
   "execution_count": 48,
   "id": "0856cc30",
   "metadata": {},
   "outputs": [
    {
     "data": {
      "text/plain": [
       "np.float64(0.9820137900379085)"
      ]
     },
     "execution_count": 48,
     "metadata": {},
     "output_type": "execute_result"
    }
   ],
   "source": [
    "def sigmoid(x):\n",
    "    return 1 / (1 + np.exp(-x))\n",
    "\n",
    "sigmoid(4)"
   ]
  },
  {
   "cell_type": "code",
   "execution_count": 61,
   "id": "6697ced2",
   "metadata": {},
   "outputs": [
    {
     "data": {
      "text/plain": [
       "[['0.00', '1.00', '0.00'],\n",
       " ['1.00', '0.00', '0.00'],\n",
       " ['1.00', '0.00', '0.00'],\n",
       " ['1.00', '0.00', '0.00']]"
      ]
     },
     "execution_count": 61,
     "metadata": {},
     "output_type": "execute_result"
    }
   ],
   "source": [
    "[[f\"{p:.2f}\" for p in t] for t in ers2[::2,:]]"
   ]
  },
  {
   "cell_type": "code",
   "execution_count": 14,
   "id": "d888096a",
   "metadata": {},
   "outputs": [
    {
     "data": {
      "text/plain": [
       "np.float64(1.4663370687934272)"
      ]
     },
     "execution_count": 14,
     "metadata": {},
     "output_type": "execute_result"
    }
   ],
   "source": [
    "np.log(0.26/0.06)"
   ]
  },
  {
   "cell_type": "code",
   "execution_count": 15,
   "id": "914c124c",
   "metadata": {},
   "outputs": [
    {
     "data": {
      "text/plain": [
       "np.float64(0.0)"
      ]
     },
     "execution_count": 15,
     "metadata": {},
     "output_type": "execute_result"
    }
   ],
   "source": [
    "np.log(1)"
   ]
  }
 ],
 "metadata": {
  "kernelspec": {
   "display_name": "scope2",
   "language": "python",
   "name": "python3"
  },
  "language_info": {
   "codemirror_mode": {
    "name": "ipython",
    "version": 3
   },
   "file_extension": ".py",
   "mimetype": "text/x-python",
   "name": "python",
   "nbconvert_exporter": "python",
   "pygments_lexer": "ipython3",
   "version": "3.12.11"
  }
 },
 "nbformat": 4,
 "nbformat_minor": 5
}
