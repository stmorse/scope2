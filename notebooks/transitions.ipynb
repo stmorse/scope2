{
 "cells": [
  {
   "cell_type": "code",
   "execution_count": 1,
   "id": "efbe7fc2",
   "metadata": {},
   "outputs": [
    {
     "name": "stderr",
     "output_type": "stream",
     "text": [
      "/sciclone/home/stmorse/projects/scope2/venv/lib/python3.12/site-packages/tqdm/auto.py:21: TqdmWarning: IProgress not found. Please update jupyter and ipywidgets. See https://ipywidgets.readthedocs.io/en/stable/user_install.html\n",
      "  from .autonotebook import tqdm as notebook_tqdm\n"
     ]
    }
   ],
   "source": [
    "import os, json, random\n",
    "import numpy as np\n",
    "import torch\n",
    "import torch.nn as nn\n",
    "from datasets import load_dataset\n",
    "from torch.utils.data import DataLoader, TensorDataset"
   ]
  },
  {
   "cell_type": "code",
   "execution_count": 2,
   "id": "d3d3ba3d",
   "metadata": {},
   "outputs": [],
   "source": [
    "ds = load_dataset(\"lmsys/lmsys-chat-1m\", split=\"train\", streaming=True)"
   ]
  },
  {
   "cell_type": "code",
   "execution_count": 3,
   "id": "fb217cf1",
   "metadata": {},
   "outputs": [
    {
     "data": {
      "text/plain": [
       "datasets.iterable_dataset.IterableDataset"
      ]
     },
     "execution_count": 3,
     "metadata": {},
     "output_type": "execute_result"
    }
   ],
   "source": [
    "type(ds)"
   ]
  },
  {
   "cell_type": "code",
   "execution_count": 4,
   "id": "ba1dfb20",
   "metadata": {},
   "outputs": [
    {
     "name": "stdout",
     "output_type": "stream",
     "text": [
      "{'conversation_id': '33f01939a744455c869cb234afca47f1', 'model': 'wizardlm-13b', 'conversation': [{'content': 'how can identity protection services help protect me against identity theft', 'role': 'user'}, {'content': \"Identity protection services can help protect you against identity theft in several ways:\\n\\n1. Monitoring: Many identity protection services monitor your credit reports, public records, and other sources for signs of identity theft. If they detect any suspicious activity, they will alert you so you can take action.\\n2. Credit freeze: Some identity protection services can help you freeze your credit, which makes it more difficult for thieves to open new accounts in your name.\\n3. Identity theft insurance: Some identity protection services offer insurance that can help you recover financially if you become a victim of identity theft.\\n4. Assistance: Many identity protection services offer assistance if you become a victim of identity theft. They can help you file a police report, contact credit bureaus, and other steps to help you restore your identity.\\n\\nOverall, identity protection services can provide you with peace of mind and help you take proactive steps to protect your identity. However, it's important to note that no service can completely guarantee that you will never become a victim of identity theft. It's still important to take steps to protect your own identity, such as being cautious with personal information and regularly monitoring your credit reports.\", 'role': 'assistant'}], 'turn': 1, 'language': 'English', 'openai_moderation': [{'categories': {'harassment': False, 'harassment/threatening': False, 'hate': False, 'hate/threatening': False, 'self-harm': False, 'self-harm/instructions': False, 'self-harm/intent': False, 'sexual': False, 'sexual/minors': False, 'violence': False, 'violence/graphic': False}, 'category_scores': {'harassment': 9.212334e-07, 'harassment/threatening': 3.6271535e-07, 'hate': 8.254962e-07, 'hate/threatening': 1.331843e-08, 'self-harm': 1.9257865e-07, 'self-harm/instructions': 6.5028324e-08, 'self-harm/intent': 2.7525962e-07, 'sexual': 2.564017e-06, 'sexual/minors': 4.523274e-07, 'violence': 2.2942773e-05, 'violence/graphic': 1.9713439e-06}, 'flagged': False}, {'categories': {'harassment': False, 'harassment/threatening': False, 'hate': False, 'hate/threatening': False, 'self-harm': False, 'self-harm/instructions': False, 'self-harm/intent': False, 'sexual': False, 'sexual/minors': False, 'violence': False, 'violence/graphic': False}, 'category_scores': {'harassment': 1.5205982e-06, 'harassment/threatening': 1.27367e-07, 'hate': 1.4930811e-07, 'hate/threatening': 2.457626e-09, 'self-harm': 3.2069583e-08, 'self-harm/instructions': 2.7247233e-07, 'self-harm/intent': 2.2881606e-07, 'sexual': 3.3542372e-05, 'sexual/minors': 8.75301e-07, 'violence': 0.00010941078, 'violence/graphic': 6.069021e-06}, 'flagged': False}], 'redacted': False}\n"
     ]
    }
   ],
   "source": [
    "for row in ds:\n",
    "    print(row)\n",
    "    break"
   ]
  }
 ],
 "metadata": {
  "kernelspec": {
   "display_name": "venv",
   "language": "python",
   "name": "python3"
  },
  "language_info": {
   "codemirror_mode": {
    "name": "ipython",
    "version": 3
   },
   "file_extension": ".py",
   "mimetype": "text/x-python",
   "name": "python",
   "nbconvert_exporter": "python",
   "pygments_lexer": "ipython3",
   "version": "3.12.7"
  }
 },
 "nbformat": 4,
 "nbformat_minor": 5
}
